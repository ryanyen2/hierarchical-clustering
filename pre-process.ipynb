{
 "cells": [
  {
   "cell_type": "code",
   "execution_count": 53,
   "metadata": {
    "tags": []
   },
   "outputs": [
    {
     "name": "stdout",
     "output_type": "stream",
     "text": [
      "(207, 6) (103, 6)\n",
      "MAE: 0.445\n"
     ]
    }
   ],
   "source": [
    "import pandas as pd \n",
    "from pandas import read_csv\n",
    "from sklearn.model_selection import train_test_split\n",
    "from sklearn import preprocessing\n",
    "from sklearn.linear_model import LinearRegression\n",
    "from sklearn.metrics import mean_absolute_error\n",
    "\n",
    "\n",
    "df = pd.read_csv('dat', header=None, sep=\" \")\n",
    "data = df.values\n",
    "\n",
    "X, y = data[:, :-1], data[:, -1]\n",
    "# split into train and test sets\n",
    "X_train, X_test, y_train, y_test = train_test_split(X, y, test_size=0.33, random_state=1)\n",
    "# summarize the shape of the training dataset\n",
    "print(X_train.shape, X_test.shape)\n",
    "\n",
    "le = preprocessing.LabelEncoder()\n",
    "y_test = le.fit_transform(y_test)\n",
    "y_train = le.fit_transform(y_train)\n",
    "\n",
    "\n",
    "model = LinearRegression()\n",
    "model.fit(X_train, y_train)\n",
    "# evaluate the model\n",
    "yhat = model.predict(X_test)\n",
    "# evaluate predictions\n",
    "mae = mean_absolute_error(y_test, yhat)\n",
    "print('MAE: %.3f' % mae)"
   ]
  },
  {
   "cell_type": "code",
   "execution_count": 54,
   "metadata": {
    "tags": []
   },
   "outputs": [
    {
     "name": "stdout",
     "output_type": "stream",
     "text": [
      "(207, 6) (103, 6)\n",
      "(186, 6) (186,)\n",
      "MAE: 0.412\n"
     ]
    }
   ],
   "source": [
    "from sklearn.ensemble import IsolationForest\n",
    "\n",
    "\n",
    "df = pd.read_csv('dat', header=None, sep=\" \")\n",
    "data = df.values\n",
    "\n",
    "X, y = data[:, :-1], data[:, -1]\n",
    "# split into train and test sets\n",
    "X_train, X_test, y_train, y_test = train_test_split(X, y, test_size=0.33, random_state=1)\n",
    "# summarize the shape of the training dataset\n",
    "print(X_train.shape, X_test.shape)\n",
    "\n",
    "le = preprocessing.LabelEncoder()\n",
    "y_test = le.fit_transform(y_test)\n",
    "y_train = le.fit_transform(y_train)\n",
    "\n",
    "iso = IsolationForest(contamination=0.1)\n",
    "yhat = iso.fit_predict(X_train)\n",
    "# select all rows that are not outliers\n",
    "mask = yhat != -1\n",
    "X_train, y_train = X_train[mask, :], y_train[mask]\n",
    "# summarize the shape of the updated training dataset\n",
    "print(X_train.shape, y_train.shape)\n",
    "# fit the model\n",
    "model = LinearRegression()\n",
    "model.fit(X_train, y_train)\n",
    "# evaluate the model\n",
    "yhat = model.predict(X_test)\n",
    "# evaluate predictions\n",
    "mae = mean_absolute_error(y_test, yhat)\n",
    "print('MAE: %.3f' % mae)"
   ]
  },
  {
   "cell_type": "code",
   "execution_count": 60,
   "metadata": {
    "tags": []
   },
   "outputs": [
    {
     "name": "stdout",
     "output_type": "stream",
     "text": [
      "(207, 6) (103, 6)\n",
      "(204, 6) (103, 6)\n",
      "MAE: 0.408\n"
     ]
    }
   ],
   "source": [
    "from sklearn.neighbors import LocalOutlierFactor\n",
    "\n",
    "df = pd.read_csv('dat', header=None, sep=\" \")\n",
    "data = df.values\n",
    "\n",
    "X, y = data[:, :-1], data[:, -1]\n",
    "# split into train and test sets\n",
    "X_train, X_test, y_train, y_test = train_test_split(X, y, test_size=0.33, random_state=1)\n",
    "\n",
    "# summarize the shape of the training dataset\n",
    "print(X_train.shape, X_test.shape)\n",
    "\n",
    "le = preprocessing.LabelEncoder()\n",
    "y_test = le.fit_transform(y_test)\n",
    "y_train = le.fit_transform(y_train)\n",
    "\n",
    "lof = LocalOutlierFactor()\n",
    "yhat = lof.fit_predict(X_train)\n",
    "\n",
    "mask = yhat != -1\n",
    "X_train, y_train = X_train[mask, :], y_train[mask]\n",
    "print(X_train.shape, X_test.shape)\n",
    "\n",
    "model = LinearRegression()\n",
    "model.fit(X_train, y_train)\n",
    "yhat = model.predict(X_test)\n",
    "mae = mean_absolute_error(y_test, yhat)\n",
    "print('MAE: %.3f' % mae)\n",
    "\n"
   ]
  },
  {
   "cell_type": "code",
   "execution_count": 65,
   "metadata": {},
   "outputs": [
    {
     "name": "stdout",
     "output_type": "stream",
     "text": [
      "(310, 6) (310,)\n",
      "(298, 6) (298,)\n"
     ]
    },
    {
     "data": {
      "text/plain": [
       "array([[0.38335082, 0.51982851, 0.28284843, 0.41439927, 0.27004393,\n",
       "        0.07946192],\n",
       "       [0.10388248, 0.29671311, 0.11168466, 0.23891776, 0.48613399,\n",
       "        0.11481917],\n",
       "       [0.45097353, 0.51393355, 0.4057954 , 0.5081015 , 0.37053817,\n",
       "        0.05535137],\n",
       "       ...,\n",
       "       [0.36492946, 0.5223294 , 0.3598076 , 0.38795475, 0.64071938,\n",
       "        0.06137901],\n",
       "       [0.17605223, 0.27224009, 0.30595964, 0.35447875, 0.5429709 ,\n",
       "        0.08284328],\n",
       "       [0.04302204, 0.20757413, 0.24800563, 0.23540202, 0.61710599,\n",
       "        0.07982946]])"
      ]
     },
     "execution_count": 65,
     "metadata": {},
     "output_type": "execute_result"
    }
   ],
   "source": [
    "import pandas as pd \n",
    "from pandas import read_csv\n",
    "from sklearn.model_selection import train_test_split\n",
    "from sklearn import preprocessing\n",
    "from sklearn.neighbors import LocalOutlierFactor\n",
    "\n",
    "df = pd.read_csv('dat', header=None, sep=\" \")\n",
    "df = df.values\n",
    "or_data = df[:, :-1]\n",
    "data, label = df[:, :-1], df[:, -1]\n",
    "print(data.shape, label.shape)\n",
    "\n",
    "lof = LocalOutlierFactor()\n",
    "yhat = lof.fit_predict(data)\n",
    "\n",
    "mask = yhat != -1\n",
    "data, label = data[mask, :], label[mask]\n",
    "print(data.shape, label.shape)\n",
    "\n",
    "min_max_scalar = preprocessing.MinMaxScaler(feature_range=(0, 1))\n",
    "x_scaled = min_max_scalar.fit_transform(data)\n",
    "x_scaled"
   ]
  },
  {
   "cell_type": "code",
   "execution_count": 66,
   "metadata": {},
   "outputs": [],
   "source": [
    "def rotated(array_2d):\n",
    "    list_of_tuples = zip(*array_2d[::-1])\n",
    "    return [list(elem) for elem in list_of_tuples]"
   ]
  },
  {
   "cell_type": "code",
   "execution_count": 67,
   "metadata": {},
   "outputs": [],
   "source": [
    "import numpy as np\n",
    "import matplotlib.pyplot as plt\n",
    "\n",
    "def plot_stacked_bar(data, series_labels, category_labels=None, \n",
    "                     show_values=False, value_format=\"{}\", y_label=None, \n",
    "                     colors=None, grid=True, reverse=False):\n",
    "\n",
    "    ny = len(data[0])\n",
    "    ind = list(range(ny))\n",
    "    print(ny)\n",
    "\n",
    "    axes = []\n",
    "    cum_size = np.zeros(ny)\n",
    "\n",
    "    data = np.array(data)\n",
    "\n",
    "    if reverse:\n",
    "        data = np.flip(data, axis=1)\n",
    "        category_labels = reversed(category_labels)\n",
    "\n",
    "    for i, row_data in enumerate(data):\n",
    "        color = colors[i] if colors is not None else None\n",
    "        axes.append(plt.bar(ind, row_data, bottom=cum_size, \n",
    "                            label=series_labels[i], color=color))\n",
    "        cum_size += row_data\n",
    "\n",
    "    if category_labels:\n",
    "        plt.xticks(ind, category_labels)\n",
    "\n",
    "    if y_label:\n",
    "        plt.ylabel(y_label)\n",
    "\n",
    "    plt.legend()\n",
    "\n",
    "    if grid:\n",
    "        plt.grid()\n",
    "\n",
    "    if show_values:\n",
    "        for axis in axes:\n",
    "            for bar in axis:\n",
    "                w, h = bar.get_width(), bar.get_height()\n",
    "                plt.text(bar.get_x() + w/2, bar.get_y() + h/2, \n",
    "                         value_format.format(h), ha=\"center\", \n",
    "                         va=\"center\")"
   ]
  },
  {
   "cell_type": "code",
   "execution_count": 68,
   "metadata": {
    "tags": []
   },
   "outputs": [
    {
     "data": {
      "text/plain": [
       "array([[63.03, 22.55, 39.61, 40.48, 98.67, -0.25],\n",
       "       [39.06, 10.06, 25.02, 29.0, 114.41, 4.56],\n",
       "       [68.83, 22.22, 50.09, 46.61, 105.99, -3.53],\n",
       "       ...,\n",
       "       [61.45, 22.69, 46.17, 38.75, 125.67, -2.71],\n",
       "       [45.25, 8.69, 41.58, 36.56, 118.55, 0.21],\n",
       "       [33.84, 5.07, 36.64, 28.77, 123.95, -0.2]], dtype=object)"
      ]
     },
     "execution_count": 68,
     "metadata": {},
     "output_type": "execute_result"
    }
   ],
   "source": [
    "or_data"
   ]
  },
  {
   "cell_type": "code",
   "execution_count": 69,
   "metadata": {
    "collapsed": true,
    "jupyter": {
     "outputs_hidden": true
    },
    "tags": []
   },
   "outputs": [
    {
     "name": "stdout",
     "output_type": "stream",
     "text": [
      "310\n"
     ]
    },
    {
     "data": {
      "image/png": "[encoded data removed]",
      "text/plain": [
       "<Figure size 1440x720 with 1 Axes>"
      ]
     },
     "metadata": {
      "needs_background": "light"
     },
     "output_type": "display_data"
    }
   ],
   "source": [
    "import matplotlib.pyplot as plt\n",
    "plt.figure(figsize=(20, 10))\n",
    "\n",
    "# series_labels = ['Series 1', 'Series 2']\n",
    "series_labels =[\"pelvic incidence\",\"pelvic tilt\",\"lumbar lordosis angle\", \"sacral slope\", \"pelvic radius\", \"grade of spondylolisthesis\"]\n",
    "\n",
    "# data = [\n",
    "#     [0.2, 0.3, 0.35, 0.3],\n",
    "#     [0.8, 0.7, 0.6, 0.5]\n",
    "# ]\n",
    "\n",
    "# category_labels = range(0, 298)\n",
    "\n",
    "x_scaled = rotated(x_scaled)\n",
    "data = rotated(data)\n",
    "or_data = rotated(or_data)\n",
    "\n",
    "name = 'or_data'\n",
    "plot_stacked_bar(\n",
    "    or_data,\n",
    "    series_labels, \n",
    "#     category_labels=category_labels, \n",
    "#     show_values=True, \n",
    "    value_format=\"{:.1f}\",\n",
    "#     colors=['tab:orange', 'tab:green', ''],\n",
    "    y_label=\"Quantity (0, 1)\"\n",
    ")\n",
    "\n",
    "plt.savefig(f'bar_{name}.png')\n",
    "plt.show()"
   ]
  },
  {
   "cell_type": "code",
   "execution_count": null,
   "metadata": {},
   "outputs": [],
   "source": []
  }
 ],
 "metadata": {
  "kernelspec": {
   "display_name": "Python 3",
   "language": "python",
   "name": "python3"
  },
  "language_info": {
   "codemirror_mode": {
    "name": "ipython",
    "version": 3
   },
   "file_extension": ".py",
   "mimetype": "text/x-python",
   "name": "python",
   "nbconvert_exporter": "python",
   "pygments_lexer": "ipython3",
   "version": "3.8.5"
  }
 },
 "nbformat": 4,
 "nbformat_minor": 5
}
